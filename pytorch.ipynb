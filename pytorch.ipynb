{
 "cells": [
  {
   "cell_type": "markdown",
   "metadata": {},
   "source": [
    "# Pytorch Tutorial"
   ]
  },
  {
   "cell_type": "markdown",
   "metadata": {},
   "source": [
    "Pytorch is a popular deep learning framework and it's easy to get started."
   ]
  },
  {
   "cell_type": "code",
   "execution_count": 259,
   "metadata": {},
   "outputs": [],
   "source": [
    "import torch\n",
    "import torch.nn as nn\n",
    "import torch.utils.data as data\n",
    "import torchvision\n",
    "import torchvision.transforms as transforms\n",
    "import numpy as np\n",
    "from tqdm import tqdm\n",
    "import time\n",
    "\n",
    "BATCH_SIZE = 32\n",
    "NUM_EPOCHS = 4"
   ]
  },
  {
   "cell_type": "markdown",
   "metadata": {},
   "source": [
    "First, we read the mnist data, preprocess them and encapsulate them into dataloader form."
   ]
  },
  {
   "cell_type": "code",
   "execution_count": 260,
   "metadata": {},
   "outputs": [],
   "source": [
    "# preprocessing\n",
    "normalize = transforms.Normalize(mean=[.5], std=[.5])\n",
    "transform = transforms.Compose([transforms.ToTensor(), normalize])\n",
    "\n",
    "# download and load the data\n",
    "train_dataset = torchvision.datasets.MNIST(root='./mnist/', train=True, transform=transform, download=True)\n",
    "test_dataset = torchvision.datasets.MNIST(root='./mnist/', train=False, transform=transform, download=False)\n",
    "\n",
    "# encapsulate them into dataloader form\n",
    "train_loader = data.DataLoader(train_dataset, batch_size=BATCH_SIZE, shuffle=True, drop_last=True)\n",
    "test_loader = data.DataLoader(test_dataset, batch_size=BATCH_SIZE, shuffle=False, drop_last=True)"
   ]
  },
  {
   "cell_type": "markdown",
   "metadata": {},
   "source": [
    "Then, we define the model, object function and optimizer that we use to classify."
   ]
  },
  {
   "cell_type": "code",
   "execution_count": 261,
   "metadata": {},
   "outputs": [
    {
     "data": {
      "text/plain": [
       "<torch._C.Generator at 0x7f851f58c070>"
      ]
     },
     "execution_count": 261,
     "metadata": {},
     "output_type": "execute_result"
    }
   ],
   "source": [
    "lr = 0.001\n",
    "momentum = 0.4\n",
    "SEED = 1336\n",
    "np.random.seed(SEED)\n",
    "torch.manual_seed(SEED)"
   ]
  },
  {
   "cell_type": "code",
   "execution_count": 262,
   "metadata": {},
   "outputs": [],
   "source": [
    "class SimpleNet(nn.Module):\n",
    "# TODO:define model\n",
    "\n",
    "# the data shape is (B, C, H, W)\n",
    "    def __init__(self):\n",
    "        super(SimpleNet, self).__init__()\n",
    "        self.layer1 = nn.Sequential(\n",
    "                        nn.Conv2d(in_channels=1, out_channels=8, kernel_size=3, stride=1, padding=0),\n",
    "                        nn.ReLU(),\n",
    "                        nn.MaxPool2d(2,2),\n",
    "                        nn.Conv2d(in_channels=8, out_channels=16, kernel_size=3, stride=1, padding=0),\n",
    "                        nn.ReLU(),\n",
    "                        nn.MaxPool2d(2,1),\n",
    "                        nn.Conv2d(in_channels=16, out_channels=32, kernel_size=3, stride=1, padding=0),\n",
    "                        nn.ReLU(),\n",
    "                        nn.Conv2d(in_channels=32, out_channels=32, kernel_size=3, stride=1, padding=0),\n",
    "                        nn.ReLU())\n",
    "        \n",
    "        self.layer2 = nn.Sequential(\n",
    "                        nn.Linear(32*6*6, 8*8*4),\n",
    "                        nn.Dropout(p=0.15),\n",
    "                        nn.ReLU(),\n",
    "                        nn.Linear(8*8*4, 64),\n",
    "                        nn.Dropout(p=0.15),\n",
    "                        nn.ReLU(),\n",
    "                        nn.Linear(64,10),\n",
    "                        nn.Softmax())\n",
    "    \n",
    "    def forward(self, x):\n",
    "        x2 = self.layer1(x)\n",
    "        x2 = x2.reshape(x2.shape[0],-1)\n",
    "        y = self.layer2(x2)\n",
    "        return y\n",
    "\n",
    "\n",
    "model = SimpleNet()\n",
    "\n",
    "# TODO:define loss function and optimiter\n",
    "criterion = nn.CrossEntropyLoss()\n",
    "#optimizer = torch.optim.SGD(model.parameters(), lr=lr, momentum=momentum)\n",
    "#optimizer = torch.optim.Adagrad(model.parameters(), lr=lr)\n",
    "optimizer = torch.optim.Adam(model.parameters(), lr=lr, betas=(0.9, 0.999), eps=1e-08, weight_decay=0, amsgrad=False)"
   ]
  },
  {
   "cell_type": "markdown",
   "metadata": {},
   "source": [
    "Next, we can start to train and evaluate!"
   ]
  },
  {
   "cell_type": "code",
   "execution_count": 263,
   "metadata": {},
   "outputs": [],
   "source": [
    "def eval_model(model, loader):\n",
    "    model.eval()\n",
    "    correct = 0\n",
    "    allsize = 0\n",
    "    with torch.no_grad():\n",
    "        for images, labels in loader:\n",
    "            output = model(images)\n",
    "            predict_labels = torch.argmax(output, dim=1)\n",
    "            correct += (predict_labels.detach().numpy() == labels.detach().numpy()).sum()\n",
    "            allsize += labels.shape[0]\n",
    "    return correct / allsize"
   ]
  },
  {
   "cell_type": "code",
   "execution_count": 264,
   "metadata": {
    "scrolled": true
   },
   "outputs": [
    {
     "name": "stderr",
     "output_type": "stream",
     "text": [
      "100%|██████████| 1875/1875 [01:01<00:00, 30.28it/s]\n"
     ]
    },
    {
     "name": "stdout",
     "output_type": "stream",
     "text": [
      "In epoch0, losses are: [1.6951088 1.5760039 1.6018698 1.571511  1.5551203 1.5193343 1.4931254\n",
      " 1.5549539 1.513372 ]\n"
     ]
    },
    {
     "name": "stderr",
     "output_type": "stream",
     "text": [
      "  0%|          | 1/1875 [00:00<04:55,  6.34it/s]"
     ]
    },
    {
     "name": "stdout",
     "output_type": "stream",
     "text": [
      "epoch 0: train_acc = 0.9534833333333333, test_acc = 0.9574318910256411\n"
     ]
    },
    {
     "name": "stderr",
     "output_type": "stream",
     "text": [
      "100%|██████████| 1875/1875 [01:22<00:00, 22.67it/s]\n",
      "  0%|          | 2/1875 [00:00<01:56, 16.08it/s]"
     ]
    },
    {
     "name": "stdout",
     "output_type": "stream",
     "text": [
      "In epoch1, losses are: [1.5021613 1.5232528 1.517288  1.4924052 1.5520636 1.4923773 1.5304203\n",
      " 1.4958313 1.4925917]\n"
     ]
    },
    {
     "name": "stderr",
     "output_type": "stream",
     "text": [
      "100%|██████████| 1875/1875 [02:13<00:00, 14.04it/s]\n",
      "  0%|          | 2/1875 [00:00<02:31, 12.39it/s]"
     ]
    },
    {
     "name": "stdout",
     "output_type": "stream",
     "text": [
      "In epoch2, losses are: [1.4924418 1.4924197 1.523873  1.4611506 1.4611503 1.4924003 1.4611502\n",
      " 1.4934151 1.4923986]\n"
     ]
    },
    {
     "name": "stderr",
     "output_type": "stream",
     "text": [
      "100%|██████████| 1875/1875 [02:39<00:00, 11.73it/s]\n"
     ]
    },
    {
     "name": "stdout",
     "output_type": "stream",
     "text": [
      "In epoch3, losses are: [1.5236505 1.4611502 1.4611539 1.4685715 1.5549359 1.4924003 1.5851537\n",
      " 1.5236605 1.5549037]\n",
      "epoch 3: train_acc = 0.9692333333333333, test_acc = 0.9714543269230769\n"
     ]
    }
   ],
   "source": [
    "# train and evaluate\n",
    "loss_list = []\n",
    "for epoch in range(NUM_EPOCHS):\n",
    "    model.train()\n",
    "    i = 0\n",
    "    for images, labels in tqdm(train_loader):\n",
    "        # TODO:forward + backward + optimize\n",
    "        output = model(images)\n",
    "        loss = criterion(output, labels)\n",
    "        optimizer.zero_grad()\n",
    "        loss.backward()\n",
    "        optimizer.step()\n",
    "        i += 1\n",
    "        if (i % 200 == 0):\n",
    "            loss_list.append(loss.detach().numpy())\n",
    "    print('In epoch{}, losses are:'.format(epoch), np.array(loss_list))\n",
    "    loss_list = []\n",
    "    #evaluate\n",
    "    #TODO:calculate the accuracy using traning and testing dataset\n",
    "    if (epoch % 3 == 0):\n",
    "        train_accu = eval_model(model, train_loader)\n",
    "        test_accu =  eval_model(model, test_loader)\n",
    "        print('epoch {}: train_acc = {}, test_acc = {}'.format(epoch, train_accu, test_accu))\n"
   ]
  },
  {
   "cell_type": "markdown",
   "metadata": {},
   "source": [
    "#### Q5:\n",
    "Please print the training and testing accuracy."
   ]
  },
  {
   "cell_type": "code",
   "execution_count": 265,
   "metadata": {},
   "outputs": [
    {
     "name": "stdout",
     "output_type": "stream",
     "text": [
      "epoch 3: train_acc = 0.9692333333333333, test_acc = 0.9714543269230769\n"
     ]
    }
   ],
   "source": [
    "train_accu = eval_model(model, train_loader)\n",
    "test_accu =  eval_model(model, test_loader)\n",
    "print('epoch {}: train_acc = {}, test_acc = {}'.format(epoch, train_accu, test_accu))"
   ]
  },
  {
   "cell_type": "code",
   "execution_count": null,
   "metadata": {},
   "outputs": [],
   "source": []
  }
 ],
 "metadata": {
  "kernelspec": {
   "display_name": "cs231n",
   "language": "python",
   "name": "cs231n"
  },
  "language_info": {
   "codemirror_mode": {
    "name": "ipython",
    "version": 3
   },
   "file_extension": ".py",
   "mimetype": "text/x-python",
   "name": "python",
   "nbconvert_exporter": "python",
   "pygments_lexer": "ipython3",
   "version": "3.7.9"
  }
 },
 "nbformat": 4,
 "nbformat_minor": 4
}
